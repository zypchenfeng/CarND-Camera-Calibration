{
 "cells": [
  {
   "cell_type": "code",
   "execution_count": 1,
   "metadata": {},
   "outputs": [],
   "source": [
    "import numpy as np"
   ]
  },
  {
   "cell_type": "code",
   "execution_count": 10,
   "metadata": {},
   "outputs": [],
   "source": [
    "# Arrays to store object points and image points from all the images\n",
    "objpoints = [] # 3D points in real world space, x=0-7, y=0-5\n",
    "imgpoints = [] # 2D points in image plane\n",
    "\n",
    "# Prepare object points, like (0,0,0), (1, 0, 0), ...\n",
    "objp = np.zeros((6*8, 3), np.float32)\n",
    "objp[:,:2] = np.mgrid[0:8, 0:6].T.reshape(-1,2) #x, y coordinates"
   ]
  },
  {
   "cell_type": "code",
   "execution_count": 8,
   "metadata": {},
   "outputs": [
    {
     "data": {
      "text/plain": [
       "array([[0., 0., 0.],\n",
       "       [1., 0., 0.],\n",
       "       [2., 0., 0.],\n",
       "       [3., 0., 0.],\n",
       "       [4., 0., 0.],\n",
       "       [5., 0., 0.],\n",
       "       [6., 0., 0.],\n",
       "       [7., 0., 0.],\n",
       "       [0., 1., 0.],\n",
       "       [1., 1., 0.],\n",
       "       [2., 1., 0.],\n",
       "       [3., 1., 0.],\n",
       "       [4., 1., 0.],\n",
       "       [5., 1., 0.],\n",
       "       [6., 1., 0.],\n",
       "       [7., 1., 0.],\n",
       "       [0., 2., 0.],\n",
       "       [1., 2., 0.],\n",
       "       [2., 2., 0.],\n",
       "       [3., 2., 0.],\n",
       "       [4., 2., 0.],\n",
       "       [5., 2., 0.],\n",
       "       [6., 2., 0.],\n",
       "       [7., 2., 0.],\n",
       "       [0., 3., 0.],\n",
       "       [1., 3., 0.],\n",
       "       [2., 3., 0.],\n",
       "       [3., 3., 0.],\n",
       "       [4., 3., 0.],\n",
       "       [5., 3., 0.],\n",
       "       [6., 3., 0.],\n",
       "       [7., 3., 0.],\n",
       "       [0., 4., 0.],\n",
       "       [1., 4., 0.],\n",
       "       [2., 4., 0.],\n",
       "       [3., 4., 0.],\n",
       "       [4., 4., 0.],\n",
       "       [5., 4., 0.],\n",
       "       [6., 4., 0.],\n",
       "       [7., 4., 0.],\n",
       "       [0., 5., 0.],\n",
       "       [1., 5., 0.],\n",
       "       [2., 5., 0.],\n",
       "       [3., 5., 0.],\n",
       "       [4., 5., 0.],\n",
       "       [5., 5., 0.],\n",
       "       [6., 5., 0.],\n",
       "       [7., 5., 0.]], dtype=float32)"
      ]
     },
     "execution_count": 8,
     "metadata": {},
     "output_type": "execute_result"
    }
   ],
   "source": [
    "gray = cv2.cvtColor(img, )"
   ]
  },
  {
   "cell_type": "code",
   "execution_count": null,
   "metadata": {},
   "outputs": [],
   "source": []
  }
 ],
 "metadata": {
  "kernelspec": {
   "display_name": "Python 3",
   "language": "python",
   "name": "python3"
  },
  "language_info": {
   "codemirror_mode": {
    "name": "ipython",
    "version": 3
   },
   "file_extension": ".py",
   "mimetype": "text/x-python",
   "name": "python",
   "nbconvert_exporter": "python",
   "pygments_lexer": "ipython3",
   "version": "3.6.2"
  }
 },
 "nbformat": 4,
 "nbformat_minor": 2
}
